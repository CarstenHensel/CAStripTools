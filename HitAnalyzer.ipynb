{
 "cells": [
  {
   "cell_type": "code",
   "execution_count": 1,
   "id": "fb57a727-0680-4168-8560-b3710f051c92",
   "metadata": {},
   "outputs": [
    {
     "name": "stdout",
     "output_type": "stream",
     "text": [
      "Welcome to JupyROOT 6.28/04\n"
     ]
    }
   ],
   "source": [
    "import ROOT\n",
    "from matplotlib import pyplot as plt\n",
    "import pandas as pd"
   ]
  },
  {
   "cell_type": "code",
   "execution_count": 2,
   "id": "682becd5-d43b-4310-a579-11fa793e2000",
   "metadata": {},
   "outputs": [
    {
     "name": "stdout",
     "output_type": "stream",
     "text": [
      "TDirectoryFile*\t\tgoodTracks\tgoodTracks\n",
      " KEY: TH2D\tXY;1\tXY\n",
      " KEY: TH2D\tRZ;1\tRZ\n",
      " KEY: TH1I\tnHitsPerLayer;1\tnHitsPerLayer\n",
      " KEY: TH1I\tnTracksPerLayer;1\tnTracksPerLayer\n",
      " KEY: TH1I\tnTracksPerPair;1\tnTracksPerPair\n",
      " KEY: TH1I\tnTracksPerTriple;1\tnTracksPerTriple\n",
      " KEY: TH2I\tnTracks;1\tnTracks\n",
      " KEY: TH2I\tnTracksSeq;1\tnTracksSeq\n",
      " KEY: TH1I\tnHitsPerTrack;1\tnHitsPerTrack\n",
      " KEY: TH1I\tnSegmentsPerTrack;1\tnSegmentsPerTrack\n",
      " KEY: TH1I\tnSegmentsNoLoopPerTrack;1\tnSegmentsNoLoopPerTrack\n",
      " KEY: TDirectoryFile\tmaxHitDistance;1\tmaxHitDistance\n",
      " KEY: TDirectoryFile\tnHitsPerTrackSegment;1\tnHitsPerTrackSegment\n",
      " KEY: TDirectoryFile\tpt;1\tpt\n",
      " KEY: TDirectoryFile\ttof;1\ttof\n",
      " KEY: TDirectoryFile\tiphi;1\tiphi\n",
      " KEY: TDirectoryFile\tz0;1\tz0\n",
      " KEY: TDirectoryFile\tcurvature;1\tcurvature\n",
      " KEY: TDirectoryFile\tdca;1\tdca\n",
      " KEY: TDirectoryFile\tdcaRc;1\tdcaRc\n",
      " KEY: TDirectoryFile\trc;1\trc\n",
      " KEY: TDirectoryFile\ttheta;1\ttheta\n"
     ]
    }
   ],
   "source": [
    "file_name = \"rechit_histograms_20231031.root\"\n",
    "my_file = ROOT.TFile.Open(file_name)\n",
    "\n",
    "my_file.goodTracks.ls()"
   ]
  },
  {
   "cell_type": "code",
   "execution_count": 3,
   "id": "739e54d4-7b9c-427d-8746-243ef94c2954",
   "metadata": {},
   "outputs": [],
   "source": [
    "file_name = \"rechit_histograms_20231031.root\"\n",
    "my_file = ROOT.TFile.Open(file_name)\n",
    "\n",
    "#open file and read in histograms\n",
    "#my_file.ls()\n",
    "histograms = {}\n",
    "for key in my_file.goodTracks.rc.GetListOfKeys():\n",
    "    hist = key.ReadObj()\n",
    "    histograms[hist.GetName()] = hist\n",
    "for key in my_file.goodTracks.theta.GetListOfKeys():\n",
    "    hist = key.ReadObj()\n",
    "    histograms[hist.GetName()] = hist\n",
    "for key in my_file.goodTracks.dca.GetListOfKeys():\n",
    "    hist = key.ReadObj()\n",
    "    histograms[hist.GetName()] = hist\n",
    "for key in my_file.goodTracks.dcaRc.GetListOfKeys():\n",
    "    hist = key.ReadObj()\n",
    "    histograms[hist.GetName()] = hist\n",
    "for key in my_file.goodTracks.curvature.GetListOfKeys():\n",
    "    hist = key.ReadObj()\n",
    "    histograms[hist.GetName()] = hist\n"
   ]
  },
  {
   "cell_type": "code",
   "execution_count": 4,
   "id": "486a3ff8-085b-4f9e-b7cb-d33361205b81",
   "metadata": {},
   "outputs": [
    {
     "name": "stderr",
     "output_type": "stream",
     "text": [
      "/var/folders/0m/wpyd3rf50ndd6p3t8qxnqkjm0000gn/T/ipykernel_53260/394293821.py:28: FutureWarning: The behavior of DataFrame concatenation with empty or all-NA entries is deprecated. In a future version, this will no longer exclude empty or all-NA columns when determining the result dtypes. To retain the old behavior, exclude the relevant entries before the concat operation.\n",
      "  df = pd.concat([df, df_tmp], ignore_index=True)\n"
     ]
    },
    {
     "data": {
      "text/html": [
       "<div>\n",
       "<style scoped>\n",
       "    .dataframe tbody tr th:only-of-type {\n",
       "        vertical-align: middle;\n",
       "    }\n",
       "\n",
       "    .dataframe tbody tr th {\n",
       "        vertical-align: top;\n",
       "    }\n",
       "\n",
       "    .dataframe thead th {\n",
       "        text-align: right;\n",
       "    }\n",
       "</style>\n",
       "<table border=\"1\" class=\"dataframe\">\n",
       "  <thead>\n",
       "    <tr style=\"text-align: right;\">\n",
       "      <th></th>\n",
       "      <th>cut</th>\n",
       "      <th>entries</th>\n",
       "      <th>mean</th>\n",
       "      <th>std dev</th>\n",
       "      <th>triplet ID</th>\n",
       "      <th>layer 1</th>\n",
       "      <th>layer 2</th>\n",
       "      <th>layer 3</th>\n",
       "    </tr>\n",
       "    <tr>\n",
       "      <th>label</th>\n",
       "      <th></th>\n",
       "      <th></th>\n",
       "      <th></th>\n",
       "      <th></th>\n",
       "      <th></th>\n",
       "      <th></th>\n",
       "      <th></th>\n",
       "      <th></th>\n",
       "    </tr>\n",
       "  </thead>\n",
       "  <tbody>\n",
       "    <tr>\n",
       "      <th>0_1_2</th>\n",
       "      <td>rc</td>\n",
       "      <td>19221.0</td>\n",
       "      <td>255.174726</td>\n",
       "      <td>263.511440</td>\n",
       "      <td>-1</td>\n",
       "      <td>0</td>\n",
       "      <td>1</td>\n",
       "      <td>2</td>\n",
       "    </tr>\n",
       "    <tr>\n",
       "      <th>0_1_3</th>\n",
       "      <td>rc</td>\n",
       "      <td>15559.0</td>\n",
       "      <td>271.096525</td>\n",
       "      <td>274.220110</td>\n",
       "      <td>-1</td>\n",
       "      <td>0</td>\n",
       "      <td>1</td>\n",
       "      <td>3</td>\n",
       "    </tr>\n",
       "    <tr>\n",
       "      <th>0_1_4</th>\n",
       "      <td>rc</td>\n",
       "      <td>5322.0</td>\n",
       "      <td>212.425225</td>\n",
       "      <td>233.559043</td>\n",
       "      <td>-1</td>\n",
       "      <td>0</td>\n",
       "      <td>1</td>\n",
       "      <td>4</td>\n",
       "    </tr>\n",
       "    <tr>\n",
       "      <th>0_1_7</th>\n",
       "      <td>rc</td>\n",
       "      <td>5766.0</td>\n",
       "      <td>207.587361</td>\n",
       "      <td>240.682308</td>\n",
       "      <td>-1</td>\n",
       "      <td>0</td>\n",
       "      <td>1</td>\n",
       "      <td>7</td>\n",
       "    </tr>\n",
       "    <tr>\n",
       "      <th>0_1_10</th>\n",
       "      <td>rc</td>\n",
       "      <td>21849.0</td>\n",
       "      <td>270.935909</td>\n",
       "      <td>267.328537</td>\n",
       "      <td>-1</td>\n",
       "      <td>0</td>\n",
       "      <td>1</td>\n",
       "      <td>10</td>\n",
       "    </tr>\n",
       "    <tr>\n",
       "      <th>...</th>\n",
       "      <td>...</td>\n",
       "      <td>...</td>\n",
       "      <td>...</td>\n",
       "      <td>...</td>\n",
       "      <td>...</td>\n",
       "      <td>...</td>\n",
       "      <td>...</td>\n",
       "      <td>...</td>\n",
       "    </tr>\n",
       "    <tr>\n",
       "      <th>7_10_11</th>\n",
       "      <td>curvature</td>\n",
       "      <td>696.0</td>\n",
       "      <td>0.019713</td>\n",
       "      <td>0.024423</td>\n",
       "      <td>-1</td>\n",
       "      <td>7</td>\n",
       "      <td>10</td>\n",
       "      <td>11</td>\n",
       "    </tr>\n",
       "    <tr>\n",
       "      <th>8_9_10</th>\n",
       "      <td>curvature</td>\n",
       "      <td>243.0</td>\n",
       "      <td>0.068114</td>\n",
       "      <td>0.042490</td>\n",
       "      <td>-1</td>\n",
       "      <td>8</td>\n",
       "      <td>9</td>\n",
       "      <td>10</td>\n",
       "    </tr>\n",
       "    <tr>\n",
       "      <th>8_9_11</th>\n",
       "      <td>curvature</td>\n",
       "      <td>149.0</td>\n",
       "      <td>0.046040</td>\n",
       "      <td>0.018549</td>\n",
       "      <td>-1</td>\n",
       "      <td>8</td>\n",
       "      <td>9</td>\n",
       "      <td>11</td>\n",
       "    </tr>\n",
       "    <tr>\n",
       "      <th>8_10_11</th>\n",
       "      <td>curvature</td>\n",
       "      <td>99.0</td>\n",
       "      <td>0.035367</td>\n",
       "      <td>0.023919</td>\n",
       "      <td>-1</td>\n",
       "      <td>8</td>\n",
       "      <td>10</td>\n",
       "      <td>11</td>\n",
       "    </tr>\n",
       "    <tr>\n",
       "      <th>9_10_11</th>\n",
       "      <td>curvature</td>\n",
       "      <td>108.0</td>\n",
       "      <td>0.037701</td>\n",
       "      <td>0.011916</td>\n",
       "      <td>-1</td>\n",
       "      <td>9</td>\n",
       "      <td>10</td>\n",
       "      <td>11</td>\n",
       "    </tr>\n",
       "  </tbody>\n",
       "</table>\n",
       "<p>360 rows × 8 columns</p>\n",
       "</div>"
      ],
      "text/plain": [
       "               cut  entries        mean     std dev triplet ID layer 1  \\\n",
       "label                                                                    \n",
       "0_1_2           rc  19221.0  255.174726  263.511440         -1       0   \n",
       "0_1_3           rc  15559.0  271.096525  274.220110         -1       0   \n",
       "0_1_4           rc   5322.0  212.425225  233.559043         -1       0   \n",
       "0_1_7           rc   5766.0  207.587361  240.682308         -1       0   \n",
       "0_1_10          rc  21849.0  270.935909  267.328537         -1       0   \n",
       "...            ...      ...         ...         ...        ...     ...   \n",
       "7_10_11  curvature    696.0    0.019713    0.024423         -1       7   \n",
       "8_9_10   curvature    243.0    0.068114    0.042490         -1       8   \n",
       "8_9_11   curvature    149.0    0.046040    0.018549         -1       8   \n",
       "8_10_11  curvature     99.0    0.035367    0.023919         -1       8   \n",
       "9_10_11  curvature    108.0    0.037701    0.011916         -1       9   \n",
       "\n",
       "        layer 2 layer 3  \n",
       "label                    \n",
       "0_1_2         1       2  \n",
       "0_1_3         1       3  \n",
       "0_1_4         1       4  \n",
       "0_1_7         1       7  \n",
       "0_1_10        1      10  \n",
       "...         ...     ...  \n",
       "7_10_11      10      11  \n",
       "8_9_10        9      10  \n",
       "8_9_11        9      11  \n",
       "8_10_11      10      11  \n",
       "9_10_11      10      11  \n",
       "\n",
       "[360 rows x 8 columns]"
      ]
     },
     "execution_count": 4,
     "metadata": {},
     "output_type": "execute_result"
    }
   ],
   "source": [
    "# loop over all histograms and retrieve mean and std dev\n",
    "\n",
    "def parse_hist_name(hist_name):\n",
    "    l1 = l2 = l3 = -1\n",
    "    cut = \"minus one\"\n",
    "    if len(hist_name.split(\"_\")) > 1:\n",
    "        (cut, l1, l2, l3) = hist_name.split(\"_\")\n",
    "    return (cut, int(l1), int(l2), int(l3)) \n",
    "\n",
    "df = pd.DataFrame(columns=[\"cut\", \"entries\", \"mean\", \"std dev\", \"triplet ID\", \"layer 1\", \"layer 2\", \"layer 3\", \"label\"])\n",
    "cuts = [\"dca\", \"theta\", \"rc\", \"dcaRc\", \"curvature\"]\n",
    "for hist_name in histograms:\n",
    "    (cut, layer1, layer2, layer3) = parse_hist_name(hist_name)\n",
    "    mean = histograms[hist_name].GetMean()\n",
    "    stddev = histograms[hist_name].GetStdDev()\n",
    "    entries = histograms[hist_name].GetEntries()\n",
    "\n",
    "    if cut != \"minus one\":\n",
    "        df_tmp = pd.DataFrame({\"cut\": cut, \n",
    "                               \"entries\": entries, \n",
    "                               \"mean\": mean, \n",
    "                               \"std dev\":stddev, \n",
    "                               \"triplet ID\":-1, \n",
    "                               \"layer 1\": layer1,\n",
    "                               \"layer 2\": layer2,\n",
    "                               \"layer 3\": layer3,\n",
    "                               \"label\": str(layer1) + \"_\" + str(layer2) + \"_\" + str(layer3)}, index=[0])\n",
    "        df = pd.concat([df, df_tmp], ignore_index=True)\n",
    "df.set_index(\"label\",drop=True,inplace=True)\n",
    "df    "
   ]
  },
  {
   "cell_type": "code",
   "execution_count": 5,
   "id": "c72d1666-fdb4-4d18-bda0-ee8ca49b0590",
   "metadata": {},
   "outputs": [
    {
     "data": {
      "image/png": "[encoded data removed]",
      "text/plain": [
       "<IPython.core.display.Image object>"
      ]
     },
     "metadata": {},
     "output_type": "display_data"
    }
   ],
   "source": [
    "c = ROOT.TCanvas()\n",
    "histograms[\"curvature_0_1_10\"].Draw()\n",
    "c.Draw()"
   ]
  },
  {
   "cell_type": "code",
   "execution_count": 6,
   "id": "3012e830-1ff3-4f74-8dd8-3209f3f6db46",
   "metadata": {},
   "outputs": [],
   "source": [
    "#define cuts that discriminate between strips and no strips:\n",
    "hasStrip = (df[\"layer 2\"] == 10) | (df[\"layer 2\"] == 11) | (df[\"layer 3\"] == 10) | (df[\"layer 3\"] == 11)\n",
    "hasNoStrip =  (df[\"layer 2\"] != 10) & (df[\"layer 2\"] != 11) & (df[\"layer 3\"] != 10) & (df[\"layer 3\"] != 11)"
   ]
  },
  {
   "cell_type": "code",
   "execution_count": 7,
   "id": "05f72d7d-5fe0-40b2-9ddb-3c4ddb4d6c79",
   "metadata": {},
   "outputs": [
    {
     "data": {
      "image/png": "[encoded data removed]",
      "text/plain": [
       "<IPython.core.display.Image object>"
      ]
     },
     "metadata": {},
     "output_type": "display_data"
    }
   ],
   "source": [
    "c = ROOT.TCanvas()\n",
    "histograms[\"dca_0_1_3\"].Draw()\n",
    "ROOT.gStyle.SetOptStat(1111111)\n",
    "c.SetLogy()\n",
    "c.Draw()"
   ]
  },
  {
   "cell_type": "code",
   "execution_count": 8,
   "id": "42ea39fe-e99e-453b-aa79-75bfbf3aaf04",
   "metadata": {},
   "outputs": [
    {
     "data": {
      "image/png": "[encoded data removed]",
      "text/plain": [
       "<IPython.core.display.Image object>"
      ]
     },
     "metadata": {},
     "output_type": "display_data"
    }
   ],
   "source": [
    "c = ROOT.TCanvas()\n",
    "histograms[\"theta_0_1_2\"].Draw()\n",
    "ROOT.gStyle.SetOptStat(1111111)\n",
    "c.SetLogy()\n",
    "c.Draw()"
   ]
  },
  {
   "cell_type": "code",
   "execution_count": 9,
   "id": "fa1610b4-50f9-4295-8aa8-b9fe1b0a1500",
   "metadata": {},
   "outputs": [],
   "source": [
    "#adding a figure of merit:\n",
    "df[\"FoM\"] = df[\"mean\"] + 2 * df[\"std dev\"]"
   ]
  },
  {
   "cell_type": "code",
   "execution_count": 10,
   "id": "8afdeeed-2d9b-4c49-94af-fabf7695522f",
   "metadata": {},
   "outputs": [
    {
     "data": {
      "text/html": [
       "<div>\n",
       "<style scoped>\n",
       "    .dataframe tbody tr th:only-of-type {\n",
       "        vertical-align: middle;\n",
       "    }\n",
       "\n",
       "    .dataframe tbody tr th {\n",
       "        vertical-align: top;\n",
       "    }\n",
       "\n",
       "    .dataframe thead th {\n",
       "        text-align: right;\n",
       "    }\n",
       "</style>\n",
       "<table border=\"1\" class=\"dataframe\">\n",
       "  <thead>\n",
       "    <tr style=\"text-align: right;\">\n",
       "      <th></th>\n",
       "      <th>cut</th>\n",
       "      <th>entries</th>\n",
       "      <th>mean</th>\n",
       "      <th>std dev</th>\n",
       "      <th>triplet ID</th>\n",
       "      <th>layer 1</th>\n",
       "      <th>layer 2</th>\n",
       "      <th>layer 3</th>\n",
       "      <th>FoM</th>\n",
       "      <th>FoM efficiency</th>\n",
       "    </tr>\n",
       "    <tr>\n",
       "      <th>label</th>\n",
       "      <th></th>\n",
       "      <th></th>\n",
       "      <th></th>\n",
       "      <th></th>\n",
       "      <th></th>\n",
       "      <th></th>\n",
       "      <th></th>\n",
       "      <th></th>\n",
       "      <th></th>\n",
       "      <th></th>\n",
       "    </tr>\n",
       "  </thead>\n",
       "  <tbody>\n",
       "    <tr>\n",
       "      <th>0_1_2</th>\n",
       "      <td>rc</td>\n",
       "      <td>19221.0</td>\n",
       "      <td>255.174726</td>\n",
       "      <td>263.511440</td>\n",
       "      <td>-1</td>\n",
       "      <td>0</td>\n",
       "      <td>1</td>\n",
       "      <td>2</td>\n",
       "      <td>782.197605</td>\n",
       "      <td>0.893918</td>\n",
       "    </tr>\n",
       "    <tr>\n",
       "      <th>0_1_3</th>\n",
       "      <td>rc</td>\n",
       "      <td>15559.0</td>\n",
       "      <td>271.096525</td>\n",
       "      <td>274.220110</td>\n",
       "      <td>-1</td>\n",
       "      <td>0</td>\n",
       "      <td>1</td>\n",
       "      <td>3</td>\n",
       "      <td>819.536745</td>\n",
       "      <td>0.888875</td>\n",
       "    </tr>\n",
       "    <tr>\n",
       "      <th>0_1_4</th>\n",
       "      <td>rc</td>\n",
       "      <td>5322.0</td>\n",
       "      <td>212.425225</td>\n",
       "      <td>233.559043</td>\n",
       "      <td>-1</td>\n",
       "      <td>0</td>\n",
       "      <td>1</td>\n",
       "      <td>4</td>\n",
       "      <td>679.543311</td>\n",
       "      <td>0.917512</td>\n",
       "    </tr>\n",
       "    <tr>\n",
       "      <th>0_1_7</th>\n",
       "      <td>rc</td>\n",
       "      <td>5766.0</td>\n",
       "      <td>207.587361</td>\n",
       "      <td>240.682308</td>\n",
       "      <td>-1</td>\n",
       "      <td>0</td>\n",
       "      <td>1</td>\n",
       "      <td>7</td>\n",
       "      <td>688.951978</td>\n",
       "      <td>0.908255</td>\n",
       "    </tr>\n",
       "    <tr>\n",
       "      <th>0_1_10</th>\n",
       "      <td>rc</td>\n",
       "      <td>21849.0</td>\n",
       "      <td>270.935909</td>\n",
       "      <td>267.328537</td>\n",
       "      <td>-1</td>\n",
       "      <td>0</td>\n",
       "      <td>1</td>\n",
       "      <td>10</td>\n",
       "      <td>805.592983</td>\n",
       "      <td>0.889194</td>\n",
       "    </tr>\n",
       "    <tr>\n",
       "      <th>...</th>\n",
       "      <td>...</td>\n",
       "      <td>...</td>\n",
       "      <td>...</td>\n",
       "      <td>...</td>\n",
       "      <td>...</td>\n",
       "      <td>...</td>\n",
       "      <td>...</td>\n",
       "      <td>...</td>\n",
       "      <td>...</td>\n",
       "      <td>...</td>\n",
       "    </tr>\n",
       "    <tr>\n",
       "      <th>7_10_11</th>\n",
       "      <td>curvature</td>\n",
       "      <td>696.0</td>\n",
       "      <td>0.019713</td>\n",
       "      <td>0.024423</td>\n",
       "      <td>-1</td>\n",
       "      <td>7</td>\n",
       "      <td>10</td>\n",
       "      <td>11</td>\n",
       "      <td>0.068558</td>\n",
       "      <td>0.943966</td>\n",
       "    </tr>\n",
       "    <tr>\n",
       "      <th>8_9_10</th>\n",
       "      <td>curvature</td>\n",
       "      <td>243.0</td>\n",
       "      <td>0.068114</td>\n",
       "      <td>0.042490</td>\n",
       "      <td>-1</td>\n",
       "      <td>8</td>\n",
       "      <td>9</td>\n",
       "      <td>10</td>\n",
       "      <td>0.153094</td>\n",
       "      <td>0.954733</td>\n",
       "    </tr>\n",
       "    <tr>\n",
       "      <th>8_9_11</th>\n",
       "      <td>curvature</td>\n",
       "      <td>149.0</td>\n",
       "      <td>0.046040</td>\n",
       "      <td>0.018549</td>\n",
       "      <td>-1</td>\n",
       "      <td>8</td>\n",
       "      <td>9</td>\n",
       "      <td>11</td>\n",
       "      <td>0.083139</td>\n",
       "      <td>0.973154</td>\n",
       "    </tr>\n",
       "    <tr>\n",
       "      <th>8_10_11</th>\n",
       "      <td>curvature</td>\n",
       "      <td>99.0</td>\n",
       "      <td>0.035367</td>\n",
       "      <td>0.023919</td>\n",
       "      <td>-1</td>\n",
       "      <td>8</td>\n",
       "      <td>10</td>\n",
       "      <td>11</td>\n",
       "      <td>0.083205</td>\n",
       "      <td>0.939394</td>\n",
       "    </tr>\n",
       "    <tr>\n",
       "      <th>9_10_11</th>\n",
       "      <td>curvature</td>\n",
       "      <td>108.0</td>\n",
       "      <td>0.037701</td>\n",
       "      <td>0.011916</td>\n",
       "      <td>-1</td>\n",
       "      <td>9</td>\n",
       "      <td>10</td>\n",
       "      <td>11</td>\n",
       "      <td>0.061533</td>\n",
       "      <td>0.972222</td>\n",
       "    </tr>\n",
       "  </tbody>\n",
       "</table>\n",
       "<p>360 rows × 10 columns</p>\n",
       "</div>"
      ],
      "text/plain": [
       "               cut  entries        mean     std dev triplet ID layer 1  \\\n",
       "label                                                                    \n",
       "0_1_2           rc  19221.0  255.174726  263.511440         -1       0   \n",
       "0_1_3           rc  15559.0  271.096525  274.220110         -1       0   \n",
       "0_1_4           rc   5322.0  212.425225  233.559043         -1       0   \n",
       "0_1_7           rc   5766.0  207.587361  240.682308         -1       0   \n",
       "0_1_10          rc  21849.0  270.935909  267.328537         -1       0   \n",
       "...            ...      ...         ...         ...        ...     ...   \n",
       "7_10_11  curvature    696.0    0.019713    0.024423         -1       7   \n",
       "8_9_10   curvature    243.0    0.068114    0.042490         -1       8   \n",
       "8_9_11   curvature    149.0    0.046040    0.018549         -1       8   \n",
       "8_10_11  curvature     99.0    0.035367    0.023919         -1       8   \n",
       "9_10_11  curvature    108.0    0.037701    0.011916         -1       9   \n",
       "\n",
       "        layer 2 layer 3         FoM  FoM efficiency  \n",
       "label                                                \n",
       "0_1_2         1       2  782.197605        0.893918  \n",
       "0_1_3         1       3  819.536745        0.888875  \n",
       "0_1_4         1       4  679.543311        0.917512  \n",
       "0_1_7         1       7  688.951978        0.908255  \n",
       "0_1_10        1      10  805.592983        0.889194  \n",
       "...         ...     ...         ...             ...  \n",
       "7_10_11      10      11    0.068558        0.943966  \n",
       "8_9_10        9      10    0.153094        0.954733  \n",
       "8_9_11        9      11    0.083139        0.973154  \n",
       "8_10_11      10      11    0.083205        0.939394  \n",
       "9_10_11      10      11    0.061533        0.972222  \n",
       "\n",
       "[360 rows x 10 columns]"
      ]
     },
     "execution_count": 10,
     "metadata": {},
     "output_type": "execute_result"
    }
   ],
   "source": [
    "#How many events survive the FoM cut?\n",
    "\n",
    "fom_efficiency = []\n",
    "for index, row in df.iterrows():\n",
    "    hist_name = row[\"cut\"] + \"_\" + str(row[\"layer 1\"]) + \"_\" + str(row[\"layer 2\"]) + \"_\" + str(row[\"layer 3\"])\n",
    "    fom = row[\"FoM\"]\n",
    "    n = histograms[hist_name].Integral(0, int(histograms[hist_name].FindFixBin(fom)))\n",
    "    d = histograms[hist_name].Integral(0, int(histograms[hist_name].FindFixBin(5000)))\n",
    "    fom_efficiency.append(n/d)\n",
    "\n",
    "df[\"FoM efficiency\"] = fom_efficiency\n",
    "\n",
    "df"
   ]
  },
  {
   "cell_type": "code",
   "execution_count": 11,
   "id": "b7a51177-21bd-4d5c-9e07-58963136c137",
   "metadata": {},
   "outputs": [
    {
     "data": {
      "text/plain": [
       "[<matplotlib.lines.Line2D at 0x17a48b1d0>]"
      ]
     },
     "execution_count": 11,
     "metadata": {},
     "output_type": "execute_result"
    },
    {
     "data": {
      "image/png": "[encoded data removed]",
      "text/plain": [
       "<Figure size 640x480 with 1 Axes>"
      ]
     },
     "metadata": {},
     "output_type": "display_data"
    }
   ],
   "source": [
    "plt.plot(df.loc[(df[\"cut\"]==\"dca\") & hasStrip,\"FoM efficiency\"])"
   ]
  },
  {
   "cell_type": "code",
   "execution_count": 12,
   "id": "098f4724-5b6c-4380-8390-c058e85fc967",
   "metadata": {},
   "outputs": [
    {
     "data": {
      "text/plain": [
       "<Axes: xlabel='label'>"
      ]
     },
     "execution_count": 12,
     "metadata": {},
     "output_type": "execute_result"
    },
    {
     "data": {
      "image/png": "[encoded data removed]",
      "text/plain": [
       "<Figure size 640x480 with 1 Axes>"
      ]
     },
     "metadata": {},
     "output_type": "display_data"
    }
   ],
   "source": [
    "df.loc[(df[\"cut\"]==\"dca\") & ((df[\"layer 2\"] == 10) | (df[\"layer 2\"] == 11) | (df[\"layer 3\"] == 10) | (df[\"layer 3\"] == 11)),\"FoM efficiency\"].plot.bar()"
   ]
  },
  {
   "cell_type": "code",
   "execution_count": 13,
   "id": "7ef0f483-d776-4560-ba48-d1226c397a74",
   "metadata": {},
   "outputs": [
    {
     "data": {
      "image/png": "[encoded data removed]",
      "text/plain": [
       "<Figure size 640x480 with 1 Axes>"
      ]
     },
     "metadata": {},
     "output_type": "display_data"
    }
   ],
   "source": [
    "fig, ax = plt.subplots()\n",
    "df.loc[(df[\"cut\"]==\"dca\") & ((df[\"layer 2\"] == 10) | (df[\"layer 2\"] == 11) | (df[\"layer 3\"] == 10) | (df[\"layer 3\"] == 11)),\"entries\"].plot.bar()\n",
    "ax.set_yscale('log')"
   ]
  },
  {
   "cell_type": "code",
   "execution_count": null,
   "id": "a9fa0a83-4adc-447a-bd30-3cc4f58f0569",
   "metadata": {},
   "outputs": [],
   "source": []
  }
 ],
 "metadata": {
  "kernelspec": {
   "display_name": "Python 3 (ipykernel)",
   "language": "python",
   "name": "python3"
  },
  "language_info": {
   "codemirror_mode": {
    "name": "ipython",
    "version": 3
   },
   "file_extension": ".py",
   "mimetype": "text/x-python",
   "name": "python",
   "nbconvert_exporter": "python",
   "pygments_lexer": "ipython3",
   "version": "3.11.6"
  }
 },
 "nbformat": 4,
 "nbformat_minor": 5
}
