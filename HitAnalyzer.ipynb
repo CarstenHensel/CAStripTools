{
 "cells": [
  {
   "cell_type": "code",
   "execution_count": 1,
   "id": "fb57a727-0680-4168-8560-b3710f051c92",
   "metadata": {},
   "outputs": [
    {
     "name": "stdout",
     "output_type": "stream",
     "text": [
      "Welcome to JupyROOT 6.28/04\n"
     ]
    }
   ],
   "source": [
    "import ROOT\n",
    "from matplotlib import pyplot as plt\n",
    "import pandas as pd"
   ]
  },
  {
   "cell_type": "code",
   "execution_count": 3,
   "id": "4cee0e76-b60d-4869-b386-2ed78bf2aa20",
   "metadata": {},
   "outputs": [],
   "source": [
    "file_name = \"rechit_histograms_20231031.root\"\n",
    "my_file = ROOT.TFile.Open(file_name)"
   ]
  },
  {
   "cell_type": "code",
   "execution_count": 5,
   "id": "762ca6b7-bc1c-46cc-8968-32471eb142bc",
   "metadata": {},
   "outputs": [
    {
     "name": "stdout",
     "output_type": "stream",
     "text": [
      "TFile**\t\trechit_histograms_20231031.root\t\n",
      " TFile*\t\trechit_histograms_20231031.root\t\n",
      "  TDirectoryFile*\t\tgoodTracks\tgoodTracks\n",
      "   KEY: TH2D\tXY;1\tXY\n",
      "   KEY: TH2D\tRZ;1\tRZ\n",
      "   KEY: TH1I\tnHitsPerLayer;1\tnHitsPerLayer\n",
      "   KEY: TH1I\tnTracksPerLayer;1\tnTracksPerLayer\n",
      "   KEY: TH1I\tnTracksPerPair;1\tnTracksPerPair\n",
      "   KEY: TH1I\tnTracksPerTriple;1\tnTracksPerTriple\n",
      "   KEY: TH2I\tnTracks;1\tnTracks\n",
      "   KEY: TH2I\tnTracksSeq;1\tnTracksSeq\n",
      "   KEY: TH1I\tnHitsPerTrack;1\tnHitsPerTrack\n",
      "   KEY: TH1I\tnSegmentsPerTrack;1\tnSegmentsPerTrack\n",
      "   KEY: TH1I\tnSegmentsNoLoopPerTrack;1\tnSegmentsNoLoopPerTrack\n",
      "   KEY: TDirectoryFile\tmaxHitDistance;1\tmaxHitDistance\n",
      "   KEY: TDirectoryFile\tnHitsPerTrackSegment;1\tnHitsPerTrackSegment\n",
      "   KEY: TDirectoryFile\tpt;1\tpt\n",
      "   KEY: TDirectoryFile\ttof;1\ttof\n",
      "   KEY: TDirectoryFile\tiphi;1\tiphi\n",
      "   KEY: TDirectoryFile\tz0;1\tz0\n",
      "   KEY: TDirectoryFile\tcurvature;1\tcurvature\n",
      "   KEY: TDirectoryFile\tdca;1\tdca\n",
      "   KEY: TDirectoryFile\tdcaRc;1\tdcaRc\n",
      "   KEY: TDirectoryFile\trc;1\trc\n",
      "   KEY: TDirectoryFile\ttheta;1\ttheta\n",
      "  TDirectoryFile*\t\tbadTracks\tbadTracks\n",
      "   KEY: TH2D\tXY;1\tXY\n",
      "   KEY: TH2D\tRZ;1\tRZ\n",
      "   KEY: TH1I\tnHitsPerLayer;1\tnHitsPerLayer\n",
      "   KEY: TH1I\tnTracksPerLayer;1\tnTracksPerLayer\n",
      "   KEY: TH1I\tnTracksPerPair;1\tnTracksPerPair\n",
      "   KEY: TH1I\tnTracksPerTriple;1\tnTracksPerTriple\n",
      "   KEY: TH2I\tnTracks;1\tnTracks\n",
      "   KEY: TH2I\tnTracksSeq;1\tnTracksSeq\n",
      "   KEY: TH1I\tnHitsPerTrack;1\tnHitsPerTrack\n",
      "   KEY: TH1I\tnSegmentsPerTrack;1\tnSegmentsPerTrack\n",
      "   KEY: TH1I\tnSegmentsNoLoopPerTrack;1\tnSegmentsNoLoopPerTrack\n",
      "   KEY: TDirectoryFile\tmaxHitDistance;1\tmaxHitDistance\n",
      "   KEY: TDirectoryFile\tnHitsPerTrackSegment;1\tnHitsPerTrackSegment\n",
      "   KEY: TDirectoryFile\tpt;1\tpt\n",
      "   KEY: TDirectoryFile\ttof;1\ttof\n",
      "   KEY: TDirectoryFile\tiphi;1\tiphi\n",
      "   KEY: TDirectoryFile\tz0;1\tz0\n",
      "   KEY: TDirectoryFile\tcurvature;1\tcurvature\n",
      "   KEY: TDirectoryFile\tdca;1\tdca\n",
      "   KEY: TDirectoryFile\tdcaRc;1\tdcaRc\n",
      "   KEY: TDirectoryFile\trc;1\trc\n",
      "   KEY: TDirectoryFile\ttheta;1\ttheta\n",
      "  KEY: TDirectoryFile\tgoodTracks;1\tgoodTracks\n",
      "  KEY: TDirectoryFile\tbadTracks;1\tbadTracks\n"
     ]
    }
   ],
   "source": [
    "#open file and read in histograms\n",
    "my_file.cd()\n",
    "my_file.ls()\n",
    "my_file.goodTracks.cd()\n",
    "histograms = {}\n",
    "for key in my_file.GetListOfKeys():\n",
    "    hist = key.ReadObj()\n",
    "    histograms[hist.GetName()] = hist"
   ]
  },
  {
   "cell_type": "code",
   "execution_count": null,
   "id": "486a3ff8-085b-4f9e-b7cb-d33361205b81",
   "metadata": {},
   "outputs": [],
   "source": []
  }
 ],
 "metadata": {
  "kernelspec": {
   "display_name": "Python 3 (ipykernel)",
   "language": "python",
   "name": "python3"
  },
  "language_info": {
   "codemirror_mode": {
    "name": "ipython",
    "version": 3
   },
   "file_extension": ".py",
   "mimetype": "text/x-python",
   "name": "python",
   "nbconvert_exporter": "python",
   "pygments_lexer": "ipython3",
   "version": "3.11.6"
  }
 },
 "nbformat": 4,
 "nbformat_minor": 5
}
